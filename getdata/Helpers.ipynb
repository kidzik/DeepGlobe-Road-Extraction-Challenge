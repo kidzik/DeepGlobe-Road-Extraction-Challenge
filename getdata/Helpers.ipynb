{
 "cells": [
  {
   "cell_type": "code",
   "execution_count": 29,
   "metadata": {},
   "outputs": [],
   "source": [
    "import matplotlib.pyplot as plt\n",
    "import cv2\n",
    "import numpy as np\n",
    "import csv\n",
    "import glob\n",
    "from shutil import copyfile"
   ]
  },
  {
   "cell_type": "code",
   "execution_count": 28,
   "metadata": {},
   "outputs": [],
   "source": [
    "b = np.array([[0,0,255], # detached\n",
    "              [0,96,127], # non residential\n",
    "              [153, 51, 204], # terraced\n",
    "              [160, 48, 112], # apartment\n",
    "              [240, 176, 0], # block 1-4\n",
    "              [192, 112, 0]]) # block 5+\n",
    "def cmp_col(col):\n",
    "    return np.apply_along_axis(lambda x: (x == col).all(), 1, b).any()\n",
    "\n",
    "def to_binary(path, path_out):\n",
    "    mask = cv2.imread(path)\n",
    "    maskbin = np.apply_along_axis(cmp_col, 2, mask)\n",
    "    cv2.imwrite(path_out, maskbin.astype('uint8') * 255)"
   ]
  },
  {
   "cell_type": "code",
   "execution_count": null,
   "metadata": {},
   "outputs": [],
   "source": [
    "import os\n",
    "for filename in glob.glob('data/*_mask.png'):\n",
    "    base = filename[5:-9]\n",
    "    to_binary(filename,\"train/%s_building_mask.png\" % base)\n",
    "    copyfile(\"data/%s_image.jpg\" % base, \"train/%s_image.png\" % base)"
   ]
  },
  {
   "cell_type": "code",
   "execution_count": 72,
   "metadata": {},
   "outputs": [
    {
     "data": {
      "text/plain": [
       "<matplotlib.image.AxesImage at 0x7fd8de8cc750>"
      ]
     },
     "execution_count": 72,
     "metadata": {},
     "output_type": "execute_result"
    },
    {
     "data": {
      "image/png": "[encoded data removed]",
      "text/plain": [
       "<Figure size 432x288 with 1 Axes>"
      ]
     },
     "metadata": {
      "needs_background": "light"
     },
     "output_type": "display_data"
    }
   ],
   "source": [
    "plt.imshow(maskbin)"
   ]
  }
 ],
 "metadata": {
  "kernelspec": {
   "display_name": "Python 2",
   "language": "python",
   "name": "python2"
  },
  "language_info": {
   "codemirror_mode": {
    "name": "ipython",
    "version": 2
   },
   "file_extension": ".py",
   "mimetype": "text/x-python",
   "name": "python",
   "nbconvert_exporter": "python",
   "pygments_lexer": "ipython2",
   "version": "2.7.11"
  }
 },
 "nbformat": 4,
 "nbformat_minor": 2
}
